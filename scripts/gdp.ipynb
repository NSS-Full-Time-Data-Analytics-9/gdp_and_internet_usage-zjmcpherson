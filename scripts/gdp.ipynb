{
 "cells": [
  {
   "cell_type": "code",
   "execution_count": null,
   "id": "d3bd0b63",
   "metadata": {},
   "outputs": [],
   "source": [
    "import pandas as pd\n",
    "import numpy as np\n",
    "import matplotlib.pyplot as plt\n",
    "import seaborn as sns"
   ]
  },
  {
   "cell_type": "code",
   "execution_count": null,
   "id": "b7097056",
   "metadata": {},
   "outputs": [],
   "source": [
    "gdp_df = pd.read_csv('../data/gdp_percapita.csv.csv')"
   ]
  },
  {
   "cell_type": "code",
   "execution_count": null,
   "id": "6c1c9ee1",
   "metadata": {},
   "outputs": [],
   "source": [
    "gdp_df.head()"
   ]
  },
  {
   "cell_type": "code",
   "execution_count": null,
   "id": "6a466213",
   "metadata": {},
   "outputs": [],
   "source": [
    "gdp_df.tail()"
   ]
  },
  {
   "cell_type": "markdown",
   "id": "23d8738a",
   "metadata": {},
   "source": [
    "#### How many rows and columns are in `gdp_df`? What are the data types of each column?"
   ]
  },
  {
   "cell_type": "code",
   "execution_count": null,
   "id": "45362c9c",
   "metadata": {},
   "outputs": [],
   "source": [
    "gdp_df.shape"
   ]
  },
  {
   "cell_type": "code",
   "execution_count": null,
   "id": "fb4672cb",
   "metadata": {},
   "outputs": [],
   "source": [
    "gdp_df.dtypes"
   ]
  },
  {
   "cell_type": "markdown",
   "id": "9c0cf944",
   "metadata": {},
   "source": [
    "#### Drop the `Value Footnotes` column and rename the remaining three to 'Country', 'Year', and 'GDP_Per_Capita'."
   ]
  },
  {
   "cell_type": "code",
   "execution_count": null,
   "id": "4ff886d9",
   "metadata": {},
   "outputs": [],
   "source": [
    "gdp_df = gdp_df.drop(columns = ['Value Footnotes'])"
   ]
  },
  {
   "cell_type": "code",
   "execution_count": null,
   "id": "955e6362",
   "metadata": {},
   "outputs": [],
   "source": [
    "gdp_df = gdp_df.rename(columns = {'Country or Area' : 'Country' , 'Value' : 'GDP_Per_Capita'})"
   ]
  },
  {
   "cell_type": "code",
   "execution_count": null,
   "id": "daac1a72",
   "metadata": {},
   "outputs": [],
   "source": [
    "gdp_df"
   ]
  },
  {
   "cell_type": "code",
   "execution_count": null,
   "id": "3c1bb965",
   "metadata": {},
   "outputs": [],
   "source": [
    "gdp_df.GDP_Per_Capita = gdp_df.GDP_Per_Capita.astype(float)"
   ]
  },
  {
   "cell_type": "code",
   "execution_count": null,
   "id": "189aa191",
   "metadata": {},
   "outputs": [],
   "source": [
    "gdp_df.dtypes"
   ]
  },
  {
   "cell_type": "code",
   "execution_count": null,
   "id": "e8093b9d",
   "metadata": {},
   "outputs": [],
   "source": [
    "gdp_df = gdp_df.round({'GDP_Per_Capita':2})"
   ]
  },
  {
   "cell_type": "code",
   "execution_count": null,
   "id": "56112e62",
   "metadata": {},
   "outputs": [],
   "source": [
    "gdp_df"
   ]
  },
  {
   "cell_type": "markdown",
   "id": "51eda394",
   "metadata": {},
   "source": [
    "#### How many countries have data for all years? Which countries are missing many years of data? Look at the number of observations per year. What do you notice?"
   ]
  },
  {
   "cell_type": "markdown",
   "id": "cb410041",
   "metadata": {},
   "source": [
    "205 countries have data for all years. Most of the underdeveloped countries have little data to go off of."
   ]
  },
  {
   "cell_type": "code",
   "execution_count": null,
   "id": "06b140cb",
   "metadata": {},
   "outputs": [],
   "source": [
    "gdp_df.Country.value_counts()"
   ]
  },
  {
   "cell_type": "code",
   "execution_count": null,
   "id": "f9f1147d",
   "metadata": {},
   "outputs": [],
   "source": [
    "country_counts = gdp_df.Country.value_counts()"
   ]
  },
  {
   "cell_type": "code",
   "execution_count": null,
   "id": "5c64b9a7",
   "metadata": {},
   "outputs": [],
   "source": [
    "country_counts = country_counts.to_frame()"
   ]
  },
  {
   "cell_type": "code",
   "execution_count": null,
   "id": "c3324274",
   "metadata": {},
   "outputs": [],
   "source": [
    "country_counts = country_counts.reset_index()"
   ]
  },
  {
   "cell_type": "code",
   "execution_count": null,
   "id": "2e42e9f6",
   "metadata": {},
   "outputs": [],
   "source": [
    "country_counts = country_counts.rename(columns = {'index' : 'country', 'Country' : 'years_counted'})"
   ]
  },
  {
   "cell_type": "code",
   "execution_count": null,
   "id": "52143432",
   "metadata": {},
   "outputs": [],
   "source": [
    "country_counts.loc[country_counts['years_counted'] < 30].head(35)"
   ]
  },
  {
   "cell_type": "code",
   "execution_count": null,
   "id": "54db5c30",
   "metadata": {
    "scrolled": true
   },
   "outputs": [],
   "source": [
    "all_years = country_counts.years_counted.value_counts()"
   ]
  },
  {
   "cell_type": "code",
   "execution_count": null,
   "id": "3daa19a3",
   "metadata": {},
   "outputs": [],
   "source": [
    "all_years.head(1)"
   ]
  },
  {
   "cell_type": "code",
   "execution_count": null,
   "id": "87fe86a0",
   "metadata": {},
   "outputs": [],
   "source": [
    "gdp_df"
   ]
  },
  {
   "cell_type": "markdown",
   "id": "2ccbb183",
   "metadata": {},
   "source": [
    "#### In this question, you're going to create some plots to show the distribution of GDP per capita for the year 2020. Go to the Python Graph Gallery (https://www.python-graph-gallery.com/) and look at the different types of plots under the Distribution section. Create a histogram, a density plot, a boxplot, and a violin plot. What do you notice when you look at these plots? How do the plots compare and what information can you get out of one type that you can't necessarily get out of the others?"
   ]
  },
  {
   "cell_type": "markdown",
   "id": "87bfd72c",
   "metadata": {},
   "source": [
    "Some of these charts are extremely useful in finding specific information. The histogram is a great way to look at the distribution of data. The density plot allows you to show the median and where the data peaks. I did not find the box plot to be that useful in this scenario, but on the other hand, the violin plot represented the data really well."
   ]
  },
  {
   "cell_type": "markdown",
   "id": "78dfe08a",
   "metadata": {},
   "source": [
    "##### GDP 2020"
   ]
  },
  {
   "cell_type": "code",
   "execution_count": null,
   "id": "be869157",
   "metadata": {},
   "outputs": [],
   "source": [
    "gdp_2020 = gdp_df.loc[gdp_df['Year'] == 2020]\n",
    "gdp_2020"
   ]
  },
  {
   "cell_type": "markdown",
   "id": "25e05091",
   "metadata": {},
   "source": [
    "### Histogram"
   ]
  },
  {
   "cell_type": "code",
   "execution_count": null,
   "id": "5464718b",
   "metadata": {},
   "outputs": [],
   "source": [
    "plt.hist(gdp_2020.GDP_Per_Capita)\n",
    "\n",
    "plt.show()"
   ]
  },
  {
   "cell_type": "markdown",
   "id": "c87e228a",
   "metadata": {},
   "source": [
    "### Density Plot"
   ]
  },
  {
   "cell_type": "code",
   "execution_count": null,
   "id": "75104aab",
   "metadata": {
    "scrolled": false
   },
   "outputs": [],
   "source": [
    "xmedian = np.median(gdp_2020.GDP_Per_Capita)\n",
    "gdp_2020.GDP_Per_Capita.plot.density()\n",
    "plt.axvline(xmedian, c = 'red')\n",
    "plt.title('GDP 2020')\n",
    "plt.show()"
   ]
  },
  {
   "cell_type": "markdown",
   "id": "3abed258",
   "metadata": {},
   "source": [
    "### Boxplot"
   ]
  },
  {
   "cell_type": "code",
   "execution_count": null,
   "id": "e31de1e8",
   "metadata": {},
   "outputs": [],
   "source": [
    "sns.boxplot(x=gdp_2020['Year'], y=gdp_2020['GDP_Per_Capita'])\n",
    "plt.show()"
   ]
  },
  {
   "cell_type": "markdown",
   "id": "5d1d10db",
   "metadata": {},
   "source": [
    "### Violin Plot"
   ]
  },
  {
   "cell_type": "code",
   "execution_count": null,
   "id": "c09777f1",
   "metadata": {},
   "outputs": [],
   "source": [
    "sns.violinplot(x=gdp_2020['Year'], y=gdp_2020['GDP_Per_Capita'])\n",
    "plt.show()"
   ]
  },
  {
   "cell_type": "markdown",
   "id": "afde455b",
   "metadata": {},
   "source": [
    "#### What was the median GDP per capita value in 2020?"
   ]
  },
  {
   "cell_type": "code",
   "execution_count": null,
   "id": "6c0d456c",
   "metadata": {},
   "outputs": [],
   "source": [
    "from statistics import median"
   ]
  },
  {
   "cell_type": "code",
   "execution_count": null,
   "id": "4f2eb222",
   "metadata": {},
   "outputs": [],
   "source": [
    "median(gdp_2020.GDP_Per_Capita)"
   ]
  },
  {
   "cell_type": "code",
   "execution_count": null,
   "id": "97cc0f8d",
   "metadata": {},
   "outputs": [],
   "source": [
    "gdp_df"
   ]
  },
  {
   "cell_type": "markdown",
   "id": "6c8605ac",
   "metadata": {},
   "source": [
    "#### For this question, you're going to create some visualizations to compare GDP per capita values for the years 1990, 2000, 2010, and 2020. Start by subsetting your data to just these 4 years into a new DataFrame named gdp_decades. Using this, create the following 4 plots:\n",
    "\t* A boxplot\n",
    "\t* A barplot (check out the Barplot with Seaborn section: https://www.python-graph-gallery.com/barplot/#Seaborn)\n",
    "\t* A scatterplot\n",
    "\t* A scatterplot with a trend line overlaid (see this regplot example: https://www.python-graph-gallery.com/42-custom-linear-regression-fit-seaborn)  \n",
    "Comment on what you observe has happened to GDP values over time and the relative strengths and weaknesses of each type of plot."
   ]
  },
  {
   "cell_type": "code",
   "execution_count": null,
   "id": "220803c4",
   "metadata": {},
   "outputs": [],
   "source": [
    "my_list = [2020, 2010, 2000, 1990]\n",
    "gdp_decades = gdp_df.set_index('Year').loc[my_list].reset_index()\n",
    "gdp_decades"
   ]
  },
  {
   "cell_type": "markdown",
   "id": "0b559607",
   "metadata": {},
   "source": [
    "## GDP Decades"
   ]
  },
  {
   "cell_type": "markdown",
   "id": "86d56f9b",
   "metadata": {},
   "source": [
    "### Boxplot"
   ]
  },
  {
   "cell_type": "code",
   "execution_count": null,
   "id": "6b788f19",
   "metadata": {},
   "outputs": [],
   "source": [
    "sns.boxplot(x=gdp_decades['Year'], y=gdp_decades['GDP_Per_Capita'])\n",
    "plt.show()"
   ]
  },
  {
   "cell_type": "markdown",
   "id": "05b64c82",
   "metadata": {},
   "source": [
    "The boxplot gives a good representation of the cluster of GDP values. It also shows some outliers for each individual year."
   ]
  },
  {
   "cell_type": "markdown",
   "id": "1bf84f93",
   "metadata": {},
   "source": [
    "### Barplot"
   ]
  },
  {
   "cell_type": "code",
   "execution_count": null,
   "id": "6f4b13d6",
   "metadata": {},
   "outputs": [],
   "source": [
    "sns.barplot(x=gdp_decades['Year'], y=gdp_decades['GDP_Per_Capita'])\n",
    "plt.ylabel('GDP_Per_Capita')\n",
    "plt.show()"
   ]
  },
  {
   "cell_type": "markdown",
   "id": "47ea2b2b",
   "metadata": {},
   "source": [
    "The barplot is really straight forward and shows the variance in GDP."
   ]
  },
  {
   "cell_type": "markdown",
   "id": "9901121c",
   "metadata": {},
   "source": [
    "### Scatterplot"
   ]
  },
  {
   "cell_type": "code",
   "execution_count": null,
   "id": "934a835f",
   "metadata": {},
   "outputs": [],
   "source": [
    "sns.scatterplot(data=gdp_decades, x='Year', y='GDP_Per_Capita')\n",
    "plt.show()"
   ]
  },
  {
   "cell_type": "markdown",
   "id": "cf4756c9",
   "metadata": {},
   "source": [
    "This scatter plot is similar to the barchart, but the strength is being able to see each countrt as an individual plot."
   ]
  },
  {
   "cell_type": "markdown",
   "id": "7e97f03b",
   "metadata": {},
   "source": [
    "### Scatterplot with trend line"
   ]
  },
  {
   "cell_type": "code",
   "execution_count": null,
   "id": "567d25b1",
   "metadata": {},
   "outputs": [],
   "source": [
    "sns.regplot(x='Year', y='GDP_Per_Capita', data = gdp_decades, line_kws={\"color\":\"r\",\"alpha\":0.7,\"lw\":5})\n",
    "plt.show()"
   ]
  },
  {
   "cell_type": "markdown",
   "id": "46c60773",
   "metadata": {},
   "source": [
    "Adding the trend line shows the gradual increase in GDP that was not represented in the previous chart."
   ]
  },
  {
   "cell_type": "markdown",
   "id": "2e5b5244",
   "metadata": {},
   "source": [
    "#### Which country was the first to have a GDP per capita greater than $100,000?"
   ]
  },
  {
   "cell_type": "code",
   "execution_count": null,
   "id": "217cd64d",
   "metadata": {},
   "outputs": [],
   "source": [
    "large_gdp = gdp_df.loc[gdp_df.GDP_Per_Capita > 100000]\n",
    "large_gdp"
   ]
  },
  {
   "cell_type": "code",
   "execution_count": null,
   "id": "f8624dfb",
   "metadata": {},
   "outputs": [],
   "source": [
    "large_gdp.sort_values(by = 'Year', ascending = True).head(1)"
   ]
  },
  {
   "cell_type": "markdown",
   "id": "64c8ca5b",
   "metadata": {},
   "source": [
    "####  Which country had the highest GDP per capita in 2020? Create a plot showing how this country's GDP per capita has changed over the timespan of the dataset."
   ]
  },
  {
   "cell_type": "code",
   "execution_count": null,
   "id": "9dd4cecf",
   "metadata": {},
   "outputs": [],
   "source": [
    "gdp_2020 = gdp_2020.reset_index(drop = True)\n",
    "top_2020_country = gdp_2020.sort_values('GDP_Per_Capita', ascending = False).head(1).loc[130, 'Country']"
   ]
  },
  {
   "cell_type": "code",
   "execution_count": null,
   "id": "ba68cc6c",
   "metadata": {},
   "outputs": [],
   "source": [
    "gdp_2020.sort_values('GDP_Per_Capita', ascending = False).reset_index(drop = True)['Country'][0]"
   ]
  },
  {
   "cell_type": "code",
   "execution_count": null,
   "id": "3edcacc6",
   "metadata": {},
   "outputs": [],
   "source": [
    "gdp_2020 = gdp_2020.reset_index(drop = True)\n",
    "top2020_country_b= gdp_2020.sort_values('GDP_Per_Capita', ascending = False).head(1)['Country']"
   ]
  },
  {
   "cell_type": "code",
   "execution_count": null,
   "id": "46042f7b",
   "metadata": {},
   "outputs": [],
   "source": [
    "lux_mask = gdp_df.loc[gdp_df['Country'].isin(top2020_country_b)]\n",
    "lux_mask"
   ]
  },
  {
   "cell_type": "code",
   "execution_count": null,
   "id": "a93e0601",
   "metadata": {},
   "outputs": [],
   "source": [
    "lux_mask = gdp_df.loc[gdp_df['Country'] == top_2020_country]\n",
    "lux_mask"
   ]
  },
  {
   "cell_type": "markdown",
   "id": "982add38",
   "metadata": {},
   "source": [
    "##### Luxembourg GDP change over time"
   ]
  },
  {
   "cell_type": "code",
   "execution_count": null,
   "id": "0fba0c1a",
   "metadata": {},
   "outputs": [],
   "source": [
    "plt.plot(lux_mask.Year, lux_mask.GDP_Per_Capita)\n",
    "plt.title('Luxembourg')\n",
    "plt.show()"
   ]
  },
  {
   "cell_type": "markdown",
   "id": "ce7e4759",
   "metadata": {},
   "source": [
    "#### Which country had the lowest GDP per capita in 2020? Create a plot showing how this country's GDP per capita has changed over the timespan of the dataset."
   ]
  },
  {
   "cell_type": "code",
   "execution_count": null,
   "id": "3678a2a8",
   "metadata": {},
   "outputs": [],
   "source": [
    "gdp_2020.sort_values('GDP_Per_Capita', ascending = True).head(1)"
   ]
  },
  {
   "cell_type": "code",
   "execution_count": null,
   "id": "3b562dcb",
   "metadata": {},
   "outputs": [],
   "source": [
    "bur_mask = gdp_df.loc[gdp_df['Country'] == 'Burundi']\n",
    "bur_mask"
   ]
  },
  {
   "cell_type": "markdown",
   "id": "c1b40298",
   "metadata": {},
   "source": [
    "#### Burundi GDP change over time"
   ]
  },
  {
   "cell_type": "code",
   "execution_count": null,
   "id": "e38f8778",
   "metadata": {},
   "outputs": [],
   "source": [
    "plt.plot(bur_mask.Year, bur_mask.GDP_Per_Capita)\n",
    "plt.title('Burundi')\n",
    "plt.show()"
   ]
  },
  {
   "cell_type": "markdown",
   "id": "152a3347",
   "metadata": {},
   "source": [
    "#### **Bonus question:** Is it true in general that countries had a higher GDP per capita in 2020 than in 1990? Which countries had lower GDP per capita in 2020 than in 1990?"
   ]
  },
  {
   "cell_type": "code",
   "execution_count": null,
   "id": "44b33a5b",
   "metadata": {},
   "outputs": [],
   "source": [
    "my_list = [2020, 1990]\n",
    "gdp_comparison = gdp_df.set_index('Year').loc[my_list].reset_index()\n",
    "gdp_comparison"
   ]
  },
  {
   "cell_type": "code",
   "execution_count": null,
   "id": "8b6ac88f",
   "metadata": {},
   "outputs": [],
   "source": [
    "gdp_comparison.sort_values('GDP_Per_Capita', ascending = False).head(50)"
   ]
  },
  {
   "cell_type": "code",
   "execution_count": null,
   "id": "f7837aa8",
   "metadata": {},
   "outputs": [],
   "source": [
    "gdp_1990 = gdp_df.loc[gdp_df['Year'] == 1990]"
   ]
  }
 ],
 "metadata": {
  "kernelspec": {
   "display_name": "Python 3 (ipykernel)",
   "language": "python",
   "name": "python3"
  },
  "language_info": {
   "codemirror_mode": {
    "name": "ipython",
    "version": 3
   },
   "file_extension": ".py",
   "mimetype": "text/x-python",
   "name": "python",
   "nbconvert_exporter": "python",
   "pygments_lexer": "ipython3",
   "version": "3.9.13"
  }
 },
 "nbformat": 4,
 "nbformat_minor": 5
}
