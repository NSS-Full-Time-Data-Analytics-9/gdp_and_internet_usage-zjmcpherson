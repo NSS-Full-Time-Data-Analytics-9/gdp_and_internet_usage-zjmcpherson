{
 "cells": [
  {
   "cell_type": "code",
   "execution_count": null,
   "id": "f9d1e0e1",
   "metadata": {},
   "outputs": [],
   "source": [
    "import pandas as pd\n",
    "import numpy as np\n",
    "import matplotlib.pyplot as plt\n",
    "import seaborn as sns"
   ]
  },
  {
   "cell_type": "code",
   "execution_count": null,
   "id": "9608034c",
   "metadata": {},
   "outputs": [],
   "source": [
    "internet_df = pd.read_csv('../data/internet_use.csv.csv', nrows = 4496 , engine = 'python')"
   ]
  },
  {
   "cell_type": "code",
   "execution_count": null,
   "id": "0dcd0b68",
   "metadata": {},
   "outputs": [],
   "source": [
    "internet_df.head()"
   ]
  },
  {
   "cell_type": "code",
   "execution_count": null,
   "id": "ddc1cfca",
   "metadata": {},
   "outputs": [],
   "source": [
    "internet_df.tail()"
   ]
  },
  {
   "cell_type": "code",
   "execution_count": null,
   "id": "227f021a",
   "metadata": {},
   "outputs": [],
   "source": [
    "internet_df.shape"
   ]
  },
  {
   "cell_type": "code",
   "execution_count": null,
   "id": "9df3eba8",
   "metadata": {},
   "outputs": [],
   "source": [
    "internet_df.dtypes"
   ]
  },
  {
   "cell_type": "markdown",
   "id": "9c997c08",
   "metadata": {},
   "source": [
    "#### Drop the `Value Footnotes` column and rename the remaining three to 'Country', 'Year', and 'Internet_Users_Pct'."
   ]
  },
  {
   "cell_type": "code",
   "execution_count": null,
   "id": "506d5a85",
   "metadata": {},
   "outputs": [],
   "source": [
    "internet_df = internet_df.drop(columns = ['Value Footnotes'])\n",
    "internet_df = internet_df.rename(columns = {'Country or Area' : 'Country', 'Value' : 'Internet_Users_Pct'})\n",
    "internet_df = internet_df.round({'Internet_Users_Pct':2})\n",
    "internet_df"
   ]
  },
  {
   "cell_type": "markdown",
   "id": "ddb1232b",
   "metadata": {},
   "source": [
    "#### Look at the number of observations in this dataset per year. What do you notice?"
   ]
  },
  {
   "cell_type": "markdown",
   "id": "eab2292b",
   "metadata": {},
   "source": [
    "There was a significant drop off in 1990."
   ]
  },
  {
   "cell_type": "code",
   "execution_count": null,
   "id": "e2e7fa89",
   "metadata": {},
   "outputs": [],
   "source": [
    "internet_df.Year.value_counts().head()"
   ]
  },
  {
   "cell_type": "code",
   "execution_count": null,
   "id": "bc96b37d",
   "metadata": {},
   "outputs": [],
   "source": [
    "years_counted = internet_df.Year.value_counts().head(43)"
   ]
  },
  {
   "cell_type": "code",
   "execution_count": null,
   "id": "ac6310e6",
   "metadata": {},
   "outputs": [],
   "source": [
    "years_counted = years_counted.to_frame()"
   ]
  },
  {
   "cell_type": "code",
   "execution_count": null,
   "id": "7db01b2e",
   "metadata": {},
   "outputs": [],
   "source": [
    "years_counted = years_counted.reset_index()"
   ]
  },
  {
   "cell_type": "code",
   "execution_count": null,
   "id": "efbe0d5e",
   "metadata": {},
   "outputs": [],
   "source": [
    "years_counted = years_counted.rename(columns = {'index' : 'Year', 'Year' : 'Counts'})"
   ]
  },
  {
   "cell_type": "code",
   "execution_count": null,
   "id": "cd187f40",
   "metadata": {},
   "outputs": [],
   "source": [
    "years_counted.sort_values(by = 'Year', ascending = False)"
   ]
  },
  {
   "cell_type": "markdown",
   "id": "2302c97d",
   "metadata": {},
   "source": [
    "#### What is the first year to have a non-zero internet users percentage value?"
   ]
  },
  {
   "cell_type": "markdown",
   "id": "8d2dc74f",
   "metadata": {},
   "source": [
    "1990"
   ]
  },
  {
   "cell_type": "code",
   "execution_count": null,
   "id": "5cc274e8",
   "metadata": {},
   "outputs": [],
   "source": [
    "not_zero = internet_df.loc[internet_df['Internet_Users_Pct'] > 0]"
   ]
  },
  {
   "cell_type": "code",
   "execution_count": null,
   "id": "d58ceea4",
   "metadata": {
    "scrolled": true
   },
   "outputs": [],
   "source": [
    "not_zero.sort_values('Year', ascending = True).head(18)"
   ]
  },
  {
   "cell_type": "markdown",
   "id": "50bce653",
   "metadata": {},
   "source": [
    "#### How does the distribution of internet users percent differ for 2000 and 2014?"
   ]
  },
  {
   "cell_type": "code",
   "execution_count": null,
   "id": "f9de163b",
   "metadata": {},
   "outputs": [],
   "source": [
    "my_list = [2000, 2014]\n",
    "multi_year = internet_df.set_index('Year').loc[my_list].reset_index()\n",
    "multi_year"
   ]
  },
  {
   "cell_type": "code",
   "execution_count": null,
   "id": "0bfe1c1f",
   "metadata": {},
   "outputs": [],
   "source": [
    "sns.histplot(data = multi_year, x = 'Year', y = 'Internet_Users_Pct')\n",
    "plt.show()"
   ]
  },
  {
   "cell_type": "code",
   "execution_count": null,
   "id": "d6a17312",
   "metadata": {},
   "outputs": [],
   "source": [
    "users_2000 = internet_df.loc[internet_df['Year'] == 2000]"
   ]
  },
  {
   "cell_type": "code",
   "execution_count": null,
   "id": "f5eabb61",
   "metadata": {},
   "outputs": [],
   "source": [
    "users_2014 = internet_df.loc[internet_df['Year'] == 2014]"
   ]
  },
  {
   "cell_type": "code",
   "execution_count": null,
   "id": "d4df5885",
   "metadata": {},
   "outputs": [],
   "source": [
    "sns.histplot(data = users_2000, x ='Year', y = 'Internet_Users_Pct', color = 'skyblue', label = '2000')\n",
    "sns.histplot(data = users_2014, x = 'Year', y = 'Internet_Users_Pct', color = 'red', label = '2014')\n",
    "plt.show()"
   ]
  },
  {
   "cell_type": "markdown",
   "id": "9ae8f60e",
   "metadata": {},
   "source": [
    "#### For how many countries was the percentage of internet users below 5% in 2014?"
   ]
  },
  {
   "cell_type": "code",
   "execution_count": null,
   "id": "8eb122cc",
   "metadata": {},
   "outputs": [],
   "source": [
    "users_2014.loc[users_2014.Internet_Users_Pct < 5].shape"
   ]
  },
  {
   "cell_type": "markdown",
   "id": "5a47d124",
   "metadata": {},
   "source": [
    "#### Merge the two DataFrames to one. Do this in a way that keeps **all rows** from each of the two DataFrames. Call the new DataFrame `gdp_and_internet_use`. Look at the first and last few rows to confirm that it merged correctly."
   ]
  },
  {
   "cell_type": "code",
   "execution_count": null,
   "id": "8c5dfa91",
   "metadata": {},
   "outputs": [],
   "source": [
    "internet_df"
   ]
  },
  {
   "cell_type": "code",
   "execution_count": null,
   "id": "d605df65",
   "metadata": {},
   "outputs": [],
   "source": [
    "gdp_df = pd.read_csv('../data/gdp_percapita.csv.csv')\n",
    "gdp_df.head(2)"
   ]
  },
  {
   "cell_type": "code",
   "execution_count": null,
   "id": "eef57a03",
   "metadata": {},
   "outputs": [],
   "source": [
    "gdp_and_internet_use = pd.merge(internet_df, gdp_df, left_on =['Country'], right_on =['Country or Area'], \n",
    "                                how = 'inner')\n",
    "gdp_and_internet_use = gdp_and_internet_use.round({'Value':2})\n",
    "gdp_and_internet_use"
   ]
  },
  {
   "cell_type": "markdown",
   "id": "c2e9baf2",
   "metadata": {},
   "source": [
    "#### Find the three countries with the highest internet users percentage in 2014. Use a seaborn FacetGrid (https://seaborn.pydata.org/generated/seaborn.FacetGrid.html) to compare how the GDP per capita has changed over time for these three countries. What do you notice?"
   ]
  },
  {
   "cell_type": "code",
   "execution_count": null,
   "id": "29e954fc",
   "metadata": {},
   "outputs": [],
   "source": [
    "gdp_and_internet_use_2014 = gdp_and_internet_use.loc[gdp_and_internet_use['Year_x'] == 2014]\n",
    "gdp_and_internet_use_2014 = gdp_and_internet_use_2014.drop_duplicates (['Country'])\n",
    "gdp_and_internet_use_2014 = gdp_and_internet_use_2014.reset_index(drop = True)\n",
    "gdp_and_internet_use_2014"
   ]
  },
  {
   "cell_type": "code",
   "execution_count": null,
   "id": "a5b13b39",
   "metadata": {},
   "outputs": [],
   "source": [
    "gdp_and_internet_use_2014 = gdp_and_internet_use_2014[['Country', 'Internet_Users_Pct', 'Year_x']]\n",
    "gdp_and_internet_use_2014"
   ]
  },
  {
   "cell_type": "markdown",
   "id": "f592286f",
   "metadata": {},
   "source": [
    "##### Highest internet users for 2014"
   ]
  },
  {
   "cell_type": "code",
   "execution_count": null,
   "id": "a787955e",
   "metadata": {},
   "outputs": [],
   "source": [
    "gdp_and_internet_use_2014.sort_values('Internet_Users_Pct', ascending = False).head(3)"
   ]
  },
  {
   "cell_type": "code",
   "execution_count": null,
   "id": "36f189f5",
   "metadata": {},
   "outputs": [],
   "source": [
    "gdp_and_internet_use_2014.nlargest(3, 'Internet_Users_Pct')"
   ]
  },
  {
   "cell_type": "code",
   "execution_count": null,
   "id": "f7886df3",
   "metadata": {},
   "outputs": [],
   "source": [
    "country_list = ['Iceland', 'Bermuda', 'Norway']\n",
    "country_list = gdp_and_internet_use.set_index('Country').loc[country_list].reset_index()\n",
    "country_list = country_list[['Country or Area', 'Year_y', 'Value']]\n",
    "country_list = country_list.drop_duplicates(['Value'])\n",
    "country_list = country_list.rename(columns = {'Year_y' : 'Year', 'Value' : 'GDP_Per_Capita'})\n",
    "country_list.head()"
   ]
  },
  {
   "cell_type": "markdown",
   "id": "0b89fedf",
   "metadata": {},
   "source": [
    "##### Top 3 countries highest internet users GDP change over time"
   ]
  },
  {
   "cell_type": "code",
   "execution_count": null,
   "id": "9b5ed8c3",
   "metadata": {},
   "outputs": [],
   "source": [
    "g = sns.FacetGrid(country_list, col = \"Country or Area\", margin_titles = False, height = 4)\n",
    "g.map(plt.plot, 'Year', 'GDP_Per_Capita')\n",
    "plt.show()"
   ]
  },
  {
   "cell_type": "markdown",
   "id": "d9a5e1c1",
   "metadata": {},
   "source": [
    "Around 2007, each country had a significant jump in their GDP_Per_Capita."
   ]
  },
  {
   "cell_type": "code",
   "execution_count": null,
   "id": "319d8e0c",
   "metadata": {},
   "outputs": [],
   "source": [
    "gdp_and_internet_use_2014"
   ]
  },
  {
   "cell_type": "markdown",
   "id": "0796572a",
   "metadata": {},
   "source": [
    "####  Subset `gdp_and_internet_use` to just the year 2014. Save this as a new dataframe named `gdp_and_internet_use_2014`."
   ]
  },
  {
   "cell_type": "code",
   "execution_count": null,
   "id": "ab7d2e82",
   "metadata": {},
   "outputs": [],
   "source": [
    "gdp_and_internet_use_2014 = gdp_and_internet_use.loc[gdp_and_internet_use['Year_x'] == 2014]\n",
    "gdp_and_internet_use_2014 = gdp_and_internet_use.loc[gdp_and_internet_use['Year_y'] == 2014]\n",
    "gdp_and_internet_use_2014 = gdp_and_internet_use_2014.drop_duplicates (['Country'])\n",
    "gdp_and_internet_use_2014 = gdp_and_internet_use_2014.rename(columns = {'Value' : 'GDP_Per_Capita'})\n",
    "gdp_and_internet_use_2014 = gdp_and_internet_use_2014.reset_index(drop = True)\n",
    "gdp_and_internet_use_2014"
   ]
  },
  {
   "cell_type": "markdown",
   "id": "eeae2d6c",
   "metadata": {},
   "source": [
    "####  Create a plot which compares Internet Users Percentage and GDP per Capita for the year 2014. What do you notice from this plot? If you see any unusual points, investigate them."
   ]
  },
  {
   "cell_type": "code",
   "execution_count": null,
   "id": "56d0e006",
   "metadata": {},
   "outputs": [],
   "source": [
    "sns.regplot(x=gdp_and_internet_use_2014['Internet_Users_Pct'], y=gdp_and_internet_use_2014['GDP_Per_Capita'])\n",
    "plt.show()"
   ]
  },
  {
   "cell_type": "code",
   "execution_count": null,
   "id": "c1f7a027",
   "metadata": {},
   "outputs": [],
   "source": [
    "gdp_and_internet_use_2014.sort_values('GDP_Per_Capita', ascending = False).head(5)"
   ]
  },
  {
   "cell_type": "code",
   "execution_count": null,
   "id": "258baa4d",
   "metadata": {},
   "outputs": [],
   "source": [
    "gdp_and_internet_use_2014.sort_values('Internet_Users_Pct', ascending = False).head(5)"
   ]
  },
  {
   "cell_type": "code",
   "execution_count": null,
   "id": "5e55302f",
   "metadata": {},
   "outputs": [],
   "source": [
    "gdp_and_internet_use_2014.sort_values('Internet_Users_Pct', ascending = False).reset_index(drop = True).head(75)"
   ]
  },
  {
   "cell_type": "markdown",
   "id": "94c6e1d9",
   "metadata": {},
   "source": [
    "Luxembourg has the highest GDP and is in the top 5 for Internet users. San Marino hovers right around the median for both GDP_Per_Capita and Internet_Users_Pct."
   ]
  },
  {
   "cell_type": "markdown",
   "id": "61d98165",
   "metadata": {},
   "source": [
    "#### **Stretch Question:** Use the `qcut` function from pandas (https://pandas.pydata.org/docs/reference/api/pandas.qcut.html) to divide countries in `gdp_per_capita_2014` into three groups based on their GDP per capita values. Label these groups as \"Low\", \"Medium\", and \"High\". Put these labels in a new column, named \"GDP_group\"."
   ]
  },
  {
   "cell_type": "code",
   "execution_count": null,
   "id": "ad808946",
   "metadata": {},
   "outputs": [],
   "source": [
    "ranges = [0, 10000, 20000, 40000, 60000, 140000]\n",
    "GDP_group = ['Low', 'Medium', 'High']"
   ]
  },
  {
   "cell_type": "code",
   "execution_count": null,
   "id": "3d35b19e",
   "metadata": {},
   "outputs": [],
   "source": [
    "pd.qcut(gdp_and_internet_use_2014.GDP_Per_Capita, q=6)"
   ]
  },
  {
   "cell_type": "markdown",
   "id": "7f11782a",
   "metadata": {},
   "source": []
  }
 ],
 "metadata": {
  "kernelspec": {
   "display_name": "Python 3 (ipykernel)",
   "language": "python",
   "name": "python3"
  },
  "language_info": {
   "codemirror_mode": {
    "name": "ipython",
    "version": 3
   },
   "file_extension": ".py",
   "mimetype": "text/x-python",
   "name": "python",
   "nbconvert_exporter": "python",
   "pygments_lexer": "ipython3",
   "version": "3.9.13"
  }
 },
 "nbformat": 4,
 "nbformat_minor": 5
}
